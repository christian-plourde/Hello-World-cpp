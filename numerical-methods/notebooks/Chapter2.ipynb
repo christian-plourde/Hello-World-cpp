{
 "cells": [
  {
   "cell_type": "markdown",
   "metadata": {},
   "source": [
    "# Chapter 2: Systems of Linear Algebraic Equations\n",
    "\n",
    "*Warning:* This is a critical chapter of the course.\n",
    "\n",
    "## 2.1 Introduction\n",
    "\n",
    "### Notation\n",
    "\n",
    "A system of linear algebraic equations is written as follows:\n",
    "\n",
    "$$\n",
    "A_{11}x_1 + A_{12}x_2 + \\ldots + A_{1n}x_n = b_1\\\\\n",
    "A_{21}x_1 + A_{22}x_2 + \\ldots + A_{2n}x_n = b_2\\\\\n",
    ".\\\\\n",
    ".\\\\\n",
    ".\\\\\n",
    "A_{n1}x_1 + A_{n2}x_2 + \\ldots + A_{nn}x_n = b_n\n",
    "$$\n",
    "\n",
    "where $x_i$ are the unknowns."
   ]
  },
  {
   "cell_type": "markdown",
   "metadata": {},
   "source": [
    "It can be represented as $\\textbf{Ax}=\\textbf{b}$, where A is an $n \\times n$ matrix, $\\textbf{x}$ is a vector of n unknowns and $\\textbf{b}$ is a vector of $n$ constants:\n",
    "\n",
    "$$\n",
    "    \\begin{bmatrix}\n",
    "        A_{11} & A_{12} & ... & A_{1n} \\\\\n",
    "        A_{21} & A_{22} & ... & A_{2n} \\\\\n",
    "        ...    & ...    & ... & ...    \\\\\n",
    "        A_{n1} & A_{n2} & ... & A_{nn}\n",
    "    \\end{bmatrix}\n",
    "    \\begin{bmatrix}\n",
    "    x_1\\\\\n",
    "    x_2\\\\\n",
    "    ...\\\\\n",
    "    x_n\n",
    "    \\end{bmatrix}\n",
    "    =\n",
    "    \\begin{bmatrix}\n",
    "    b_1\\\\\n",
    "    b_2\\\\\n",
    "    ...\\\\\n",
    "    b_n\n",
    "    \\end{bmatrix}\n",
    "$$\n",
    "\n",
    "It is also sometimes written using the $\\textit{augmented form}$ combining $\\textbf{A}$ and $\\textbf{b}$ in a single matrix:\n",
    "$$\n",
    "\\left[\n",
    "\\begin{array}{cccc|c}\n",
    " A_{11} & A_{12} & ... & A_{1n} & b_{1}\\\\\n",
    "        A_{21} & A_{22} & ... & A_{2n} & b_{2} \\\\\n",
    "        ...    & ...    & ... & ...    & ... \\\\\n",
    "        A_{n1} & A_{n2} & ... & A_{nn} & b_{n}\n",
    "\\end{array}\n",
    "\\right]\n",
    "$$\n"
   ]
  },
  {
   "cell_type": "markdown",
   "metadata": {},
   "source": [
    "Let's do a brief [recap on linear algebra](Matrix-algebra.ipynb)..."
   ]
  },
  {
   "cell_type": "markdown",
   "metadata": {},
   "source": [
    "### Existence and Uniqueness of Solution\n",
    "\n",
    "A system of $n$ linear algebraic equations has a unique solution if and only if $\\textbf{A}$ is $\\textit{nonsingular}$, that is: det($\\textbf{A}$) $\\neq$ 0.\n",
    "\n",
    "If $\\textbf{A}$ is singular, the system has no solution or an infinite number of solutions."
   ]
  },
  {
   "cell_type": "markdown",
   "metadata": {},
   "source": [
    "#### Exercice 2.1.2 (in class)\n",
    "\n",
    "* Find examples of 2x2 and 3x3 matrices with a zero determinant.\n",
    "* Find examples of systems with (1) no solution, (2) an infinite number of solutions."
   ]
  },
  {
   "cell_type": "markdown",
   "metadata": {},
   "source": [
    "[A few more words on linear algebra](Matrix-algebra.ipynb)..."
   ]
  },
  {
   "cell_type": "markdown",
   "metadata": {},
   "source": [
    "### Conditioning\n",
    "\n",
    "When the determinant of $\\textbf{A}$ is \"very small\", small changes in the matrix result in large changes in the solution. In this case, the solution $\\underline{\\mathrm{cannot\\ be\\ trusted}}$.\n",
    "\n",
    "The $\\textit{condition number}$ of a matrix is defined as:\n",
    "\n",
    "$$\n",
    "\\mathrm{cond}(\\textbf{A}) = ||\\textbf{A}||.||\\textbf{A}^{-1}||\n",
    "$$\n",
    "\n",
    "If the condition number is close to unity, the matrix is well conditioned. On the contrary, a matrix with a large condition number is said to be $\\underline{\\mathrm{ill-conditioned}}$.\n",
    "\n",
    "Let's write a function to compute the condition number of a matrix:"
   ]
  },
  {
   "cell_type": "code",
   "execution_count": 1,
   "metadata": {},
   "outputs": [],
   "source": [
    "def norm(a): # infinity norm\n",
    "    n = 0\n",
    "    for row in a:\n",
    "        s = sum(abs(row))\n",
    "        if s > n:\n",
    "            n = s\n",
    "    return n\n",
    "                \n",
    "def condition(a):\n",
    "    from numpy.linalg import inv # this is cheating, we'll see later how to compute the inverse of a matrix\n",
    "    return norm(a)*norm(inv(a))"
   ]
  },
  {
   "cell_type": "markdown",
   "metadata": {},
   "source": [
    "And let's compute the condition number of the following matrix:\n",
    "\n",
    "$$\n",
    "\\textbf{A}=\n",
    "\\begin{bmatrix}\n",
    "        1 & -1.001 \\\\\n",
    "        2.001 & -2  \n",
    "    \\end{bmatrix}\n",
    "$$\n",
    "\n",
    "Using our function:"
   ]
  },
  {
   "cell_type": "code",
   "execution_count": 2,
   "metadata": {},
   "outputs": [
    {
     "data": {
      "text/plain": [
       "4001.000000000308"
      ]
     },
     "execution_count": 2,
     "metadata": {},
     "output_type": "execute_result"
    }
   ],
   "source": [
    "from numpy import array\n",
    "a = array([[1, -1.001], [2.001, -2]])\n",
    "condition(a)"
   ]
  },
  {
   "cell_type": "markdown",
   "metadata": {},
   "source": [
    "And using numpy:"
   ]
  },
  {
   "cell_type": "code",
   "execution_count": 3,
   "metadata": {},
   "outputs": [
    {
     "data": {
      "text/plain": [
       "4001.000000000308"
      ]
     },
     "execution_count": 3,
     "metadata": {},
     "output_type": "execute_result"
    }
   ],
   "source": [
    "from numpy import inf\n",
    "from numpy.linalg import cond\n",
    "cond(a, p=inf)"
   ]
  },
  {
   "cell_type": "markdown",
   "metadata": {},
   "source": [
    "In practice, computing $\\textbf{A}^{-1}$ is expensive. Conditioning is often gauged by comparing the determinant with the magnitude of the elements in the matrix."
   ]
  },
  {
   "cell_type": "markdown",
   "metadata": {},
   "source": [
    "#### Exercice: Effect of ill-conditioning on solutions.\n",
    "\n",
    "1. Solve the linear system defined by $\\textbf{Ax}$=$\\textbf{b}$, where:\n",
    "$\n",
    "\\textbf{A}=\n",
    "\\begin{bmatrix}\n",
    "        1 & -1.001 \\\\\n",
    "        2.001 & -2  \n",
    "    \\end{bmatrix}\n",
    "$\n",
    "and\n",
    "$\n",
    "\\textbf{b}=\n",
    "\\begin{bmatrix}\n",
    "        3 \\\\\n",
    "        7  \n",
    "    \\end{bmatrix}\n",
    "$\n"
   ]
  },
  {
   "cell_type": "code",
   "execution_count": 4,
   "metadata": {},
   "outputs": [
    {
     "data": {
      "text/plain": [
       "array([335.55481506, 332.22259247])"
      ]
     },
     "execution_count": 4,
     "metadata": {},
     "output_type": "execute_result"
    }
   ],
   "source": [
    "from numpy.linalg import solve # let's cheat for now, we'll program this in the next section\n",
    "\n",
    "a = array([[1, -1.001], [2.001, -2]])\n",
    "b = array([3, 7])\n",
    "solve(a, b)"
   ]
  },
  {
   "cell_type": "markdown",
   "metadata": {},
   "source": [
    "2. Solve the linear system defined by $\\textbf{Ax}$=$\\textbf{b}$, where:\n",
    "$\n",
    "\\textbf{A}=\n",
    "\\begin{bmatrix}\n",
    "        1 & -1.002 \\\\\n",
    "        2.002 & -2  \n",
    "    \\end{bmatrix}\n",
    "$\n",
    "and\n",
    "$\n",
    "\\textbf{b}=\n",
    "\\begin{bmatrix}\n",
    "        3 \\\\\n",
    "        7  \n",
    "    \\end{bmatrix}\n",
    "$"
   ]
  },
  {
   "cell_type": "code",
   "execution_count": 5,
   "metadata": {},
   "outputs": [
    {
     "data": {
      "text/plain": [
       "array([168.88740839, 165.5562958 ])"
      ]
     },
     "execution_count": 5,
     "metadata": {},
     "output_type": "execute_result"
    }
   ],
   "source": [
    "from numpy.linalg import solve # let's cheat for now, we'll program this in the next section\n",
    "\n",
    "a = array([[1, -1.002], [2.002, -2]])\n",
    "solve(a, b)"
   ]
  },
  {
   "cell_type": "markdown",
   "metadata": {},
   "source": [
    "A 0.001 increment on matrix coefficients divided the solution by a factor of 2!"
   ]
  },
  {
   "cell_type": "markdown",
   "metadata": {},
   "source": [
    "### Methods of Solution\n",
    "\n",
    "There are two classes of methods to solve linear systems:\n",
    "* Direct methods\n",
    "* Iterative methods\n",
    "\n",
    "Direct methods work by applying the following three operations to rewrite the system in a form that permits resolution:\n",
    "* Exchanging two equations\n",
    "* Multiplying an equation by a nonzero constant\n",
    "* Subtracting an equation from another one\n",
    "\n",
    "Iterative methods start with an initial solution $\\textbf{x}$ and refine it until convergence. Iterative methods are generally used when the matrix is very large and sparse, for instance to solve the [PageRank](https://en.wikipedia.org/wiki/PageRank) equations.\n"
   ]
  },
  {
   "cell_type": "markdown",
   "metadata": {},
   "source": [
    "#### Overview of Direct Methods\n",
    "\n",
    "Direct methods are summarized in the Table below:\n",
    "\n",
    "| Method        | Initial form    | Final form  |\n",
    "| ------------- |:-------------:| -----:|\n",
    "| Gauss Elimination      | $\\textbf{Ax}=\\textbf{b}$ | $\\textbf{Ux}=\\textbf{c}$ |\n",
    "| LU decomposition      | $\\textbf{Ax}=\\textbf{b}$      |   $\\textbf{LUx}=\\textbf{b}$ |\n",
    "| Gauss-Jordan Elimination | $\\textbf{Ax}=\\textbf{b}$      |    $\\textbf{Ix}=\\textbf{c}$ |\n",
    "\n",
    "In this table, $\\textbf{U}$ represents an upper triangular matrix, $\\textbf{L}$ is a lower triangular matrix, and $\\textbf{I}$ is the identity matrix. \n",
    "\n",
    "A square matrix is called triangular if it contains only zero elements below (upper triangular) or above (lower triangular) the diagonal. For instance, the following matrix is upper triangular:\n",
    "$$\n",
    "\\textbf{U}=\\begin{bmatrix}\n",
    "1 & 2 & 3 \\\\\n",
    "0 & 4 & 5 \\\\\n",
    "0 & 0 & 6\n",
    "\\end{bmatrix}\n",
    "$$\n",
    "and the following matrix is lower triangular:\n",
    "$$\n",
    "\\textbf{L}=\\begin{bmatrix}\n",
    "1 & 0 & 0 \\\\\n",
    "2 & 3 & 0 \\\\\n",
    "4 & 5 & 6\n",
    "\\end{bmatrix}\n",
    "$$\n",
    "\n",
    "Systems of the form $\\textbf{Lx}$=$\\textbf{c}$ can easily be solved by a procedure called $\\underline{\\mathrm{forward\\ substitution}}$: the first equation has only a single unknown, which is easy to solve; after solving the first equation, the second one has only one unknown remaining, and so on."
   ]
  },
  {
   "cell_type": "markdown",
   "metadata": {},
   "source": [
    "#### Exercice\n",
    "\n",
    "Solve the system of linear equations defined by $\\textbf{Lx}$=$\\textbf{c}$, where:\n",
    "$\n",
    "\\textbf{L}=\n",
    "\\begin{bmatrix}\n",
    "        1 & 0 & 0 \\\\\n",
    "        2 & 4 & 0 \\\\\n",
    "        3 & 1  & 1\n",
    "    \\end{bmatrix}\n",
    "$ \n",
    "and\n",
    "$\n",
    "\\textbf{b}=\n",
    "\\begin{bmatrix}\n",
    "        1\\\\\n",
    "        3\\\\\n",
    "        2\n",
    "    \\end{bmatrix}\n",
    "$ \n",
    "\n"
   ]
  },
  {
   "cell_type": "code",
   "execution_count": 13,
   "metadata": {},
   "outputs": [
    {
     "data": {
      "text/plain": [
       "array([ 1.  ,  0.25, -1.25])"
      ]
     },
     "execution_count": 13,
     "metadata": {},
     "output_type": "execute_result"
    }
   ],
   "source": [
    "# You can verify your solution as follows, but the point is to do it manually to understand\n",
    "# how useful triangular matrices are!\n",
    "from numpy.linalg import solve\n",
    "\n",
    "a = array([[1, 0, 0], [2, 4, 0], [3, 1, 1]])\n",
    "b = array([1, 3, 2])\n",
    "solve(a, b)"
   ]
  },
  {
   "cell_type": "markdown",
   "metadata": {},
   "source": [
    "Likewise, systems of the form $\\textbf{Ux}$=$\\textbf{c}$ can easily be solved by $\\underline{\\mathrm{back\\  substitution}}$, solving the last equation first. \n",
    "\n",
    "Finally, systems of the form $\\textbf{LUx}$=$\\textbf{c}$ can quickly be solved by solving first $\\textbf{Ly}$=$\\textbf{c}$ by forward substitution, and then $\\textbf{Ux}$=$\\textbf{y}$ by back substitution."
   ]
  },
  {
   "cell_type": "markdown",
   "metadata": {},
   "source": [
    "### Exercice (Example 2.2 in textbook)\n",
    "\n",
    "Solve the equations $\\textbf{Ax}$=$\\textbf{b}$, where:\n",
    "$$\n",
    "\\textbf{A}=\n",
    "\\begin{bmatrix}\n",
    "        8 & -6 & 2 \\\\\n",
    "        -4 & 11 & -7 \\\\\n",
    "        4 & -7  & 6\n",
    "    \\end{bmatrix}\n",
    "    \\quad\n",
    "\\textbf{b}=\n",
    "\\begin{bmatrix}\n",
    "        28\\\\\n",
    "        -40\\\\\n",
    "        33\n",
    "    \\end{bmatrix}\n",
    "$$ \n",
    "knowing that the LU decomposition of $\\textbf{A}$ is (you should verify this):\n",
    "$$\n",
    "\\textbf{A}=\\textbf{LU}=\n",
    "\\begin{bmatrix}\n",
    "        2 & 0 & 0 \\\\\n",
    "        -1 & 2 & 0 \\\\\n",
    "        1 & -1  & 1\n",
    "    \\end{bmatrix}\n",
    "    \\begin{bmatrix}\n",
    "        4 & -3 & 1 \\\\\n",
    "        0 & 4 & -3 \\\\\n",
    "        0 & 0  & 2\n",
    "    \\end{bmatrix}\n",
    "$$\n",
    "(done manually in class)\n"
   ]
  },
  {
   "cell_type": "code",
   "execution_count": 14,
   "metadata": {},
   "outputs": [
    {
     "data": {
      "text/plain": [
       "array([[ 8, -6,  2],\n",
       "       [-4, 11, -7],\n",
       "       [ 4, -7,  6]])"
      ]
     },
     "execution_count": 14,
     "metadata": {},
     "output_type": "execute_result"
    }
   ],
   "source": [
    "# You should be able to do this manually\n",
    "from numpy import array, dot\n",
    "a = array([[8, -6, 2], [-4, 11, -7], [4, -7, 6]])\n",
    "b = array([28, -40, 33])\n",
    "l = array([[2, 0, 0], [-1, 2, 0], [1, -1, 1]])\n",
    "u = array([[4, -3, 1], [0, 4, -3], [0, 0, 2]])\n",
    "# Check if the factorization is correct\n",
    "dot(l, u)\n"
   ]
  },
  {
   "cell_type": "code",
   "execution_count": 15,
   "metadata": {},
   "outputs": [
    {
     "data": {
      "text/plain": [
       "array([ 2., -1.,  3.])"
      ]
     },
     "execution_count": 15,
     "metadata": {},
     "output_type": "execute_result"
    }
   ],
   "source": [
    "# Solving without the LU decomposition\n",
    "from numpy.linalg import solve\n",
    "solve(a, b)"
   ]
  },
  {
   "cell_type": "code",
   "execution_count": 16,
   "metadata": {},
   "outputs": [
    {
     "data": {
      "text/plain": [
       "array([ 2., -1.,  3.])"
      ]
     },
     "execution_count": 16,
     "metadata": {},
     "output_type": "execute_result"
    }
   ],
   "source": [
    "# Solving with the decomposition\n",
    "y = solve(l, b)\n",
    "solve(u, y)"
   ]
  },
  {
   "cell_type": "markdown",
   "metadata": {},
   "source": [
    "## 2.2 Gauss Elimination"
   ]
  },
  {
   "cell_type": "markdown",
   "metadata": {},
   "source": [
    "This method consists of two phases:\n",
    "1. The elimination phase, to transform the equations in the form $\\textbf{Ux}$=$\\textbf{c}$,\n",
    "2. The back substitution phase, to solve the equations."
   ]
  },
  {
   "cell_type": "markdown",
   "metadata": {},
   "source": [
    "### Elimination phase\n",
    "\n",
    "The elimination phase multiplies equations by a constant and subtracts them, which is represented as follows:\n",
    "$$\n",
    "Eq.(i) \\leftarrow Eq.(i) - \\lambda Eq.(j)\n",
    "$$\n",
    "Equation $\\textit{j}$ is called the $\\textit{pivot}$."
   ]
  },
  {
   "cell_type": "markdown",
   "metadata": {},
   "source": [
    "For instance, let's consider the following equations:\n",
    "\n",
    "$$\n",
    "  3x_1+2x_2-7x_3=4  \\quad (a)\\\\\n",
    "  2x_1-x_2-4x_3=1   \\quad (b)\\\\\n",
    "  -x_1-3x_2+x_3=3   \\quad (c)\n",
    "$$"
   ]
  },
  {
   "cell_type": "markdown",
   "metadata": {},
   "source": [
    "We start the process by choosing Equation (a) as the pivot, and chosing $\\lambda$ to eliminate $x_1$ from Equations (b) and (c):\n",
    "$$\n",
    "Eq.(b) \\leftarrow Eq.(b) - \\frac{2}{3}Eq.(a)\\\\\n",
    "Eq.(c) \\leftarrow Eq.(c) - \\left( -\\frac{1}{3} \\right)Eq.(a)\n",
    "$$"
   ]
  },
  {
   "cell_type": "markdown",
   "metadata": {},
   "source": [
    "which gives:\n",
    "$$\n",
    "  3x_1+2x_2-7x_3=4  \\quad (a)\\\\\n",
    "  -\\frac{7}{3}x_2+\\frac{2}{3}x_3=-\\frac{5}{3}   \\quad (b)\\\\\n",
    "  -\\frac{7}{3}x_2-\\frac{4}{3}x_3=\\frac{13}{3}   \\quad (c)\n",
    "$$"
   ]
  },
  {
   "cell_type": "markdown",
   "metadata": {},
   "source": [
    "We now reiterate the process by choosing Equation (b) as the pivot to eliminate $x_2$ from Equation (c):\n",
    "$$\n",
    "Eq.(c) \\leftarrow Eq.(c) - Eq.(b)\n",
    "$$"
   ]
  },
  {
   "cell_type": "markdown",
   "metadata": {},
   "source": [
    "which gives:\n",
    "$$\n",
    "  3x_1+2x_2-7x_3=4  \\quad (a)\\\\\n",
    "  -\\frac{7}{3}x_2+\\frac{2}{3}x_3=-\\frac{5}{3}   \\quad (b)\\\\\n",
    "  -2x_3=\\frac{18}{3}   \\quad (c)\n",
    "$$\n",
    "The elimination phase is complete.\n"
   ]
  },
  {
   "cell_type": "markdown",
   "metadata": {},
   "source": [
    "Using the augmented notation, the process is written as follows:\n",
    "$$\n",
    "\\left[\n",
    "\\begin{array}{ccc|c}\n",
    "3 & 2 & -7 & 4 \\\\\n",
    "2 & -1 & -4 & 1 \\\\\n",
    "-1 & -3 & 1 & 3\n",
    "\\end{array}\n",
    "\\right]\n",
    "$$\n",
    "\n",
    "$$\n",
    "\\left[\n",
    "\\begin{array}{ccc|c}\n",
    "3 & 2 & -7 & 4 \\\\\n",
    "0 & -7/3 & 2/3 & -5/3 \\\\\n",
    "0 & -7/3 & -4/3 & 13/3\n",
    "\\end{array}\n",
    "\\right]\n",
    "$$\n",
    "\n",
    "$$\n",
    "\\left[\n",
    "\\begin{array}{ccc|c}\n",
    "3 & 2 & -7 & 4 \\\\\n",
    "0 & -7/3 & 2/3 & -5/3 \\\\\n",
    "0 & 0 & -2 & 18/3\n",
    "\\end{array}\n",
    "\\right]\n",
    "$$"
   ]
  },
  {
   "cell_type": "markdown",
   "metadata": {},
   "source": [
    "### Back substitution\n",
    "\n",
    "We can now solve the equations by back substitution:\n",
    "$$\n",
    "x_3 = -\\frac{9}{3} = -3 \\quad (c) \\\\\n",
    "x_2 = -\\frac{3}{7} \\left(-\\frac{5}{3} + 2 \\right) = - \\frac{1}{7}\\quad (b) \\\\\n",
    "x_1 = \\frac{1}{3}\\left( 4 + \\frac{2}{7} - 21\\right) = -\\frac{39}{7} \\quad (a)\n",
    "$$"
   ]
  },
  {
   "cell_type": "markdown",
   "metadata": {},
   "source": [
    "### Note\n",
    "\n",
    "* The elimination phase leaves the determinant of the matrix unchanged.\n",
    "* The determinant of a triangular matrix is the product of its diagonal coefficients.\n",
    "\n",
    "Thus:\n",
    "\n",
    "$$\n",
    "\\mathrm{det}\\left(\n",
    "\\begin{bmatrix}\n",
    "3 & 2 & -7 \\\\\n",
    "2 & -1 & -4 \\\\\n",
    "-1 & -3 & 1\n",
    "\\end{bmatrix}\n",
    "\\right) = 3.-\\frac{7}{3}.-2 = 14\n",
    "$$"
   ]
  },
  {
   "cell_type": "code",
   "execution_count": 18,
   "metadata": {},
   "outputs": [
    {
     "data": {
      "text/plain": [
       "13.999999999999996"
      ]
     },
     "execution_count": 18,
     "metadata": {},
     "output_type": "execute_result"
    }
   ],
   "source": [
    "from numpy.linalg import det\n",
    "a = array([[3, 2, -7], [2, -1, -4], [-1, -3, 1]])\n",
    "det(a)"
   ]
  },
  {
   "cell_type": "markdown",
   "metadata": {},
   "source": [
    "### Algorithm for Gauss Elimination Method\n",
    "\n",
    "#### Elimination Phase\n",
    "\n",
    "Let's look at the equations at iteration $k$ of the elimination process.\n",
    "\n",
    "* The first $k$ rows have already been transformed.\n",
    "* Row $k$ is the pivot row\n",
    "* Row $i$ is the row being transformed\n",
    "\n",
    "The augmented coefficient matrix is:\n",
    "$$\n",
    "\\left[\n",
    "\\begin{array}{ccccccccc|c}\n",
    "A_{11} & A_{12} & A_{13} & \\ldots & A_{1k} & \\ldots & A_{1j} & \\ldots & A_{1n} & b_1 \\\\\n",
    "0      & A_{22} & A_{23} & \\ldots & A_{2k} & \\ldots & A_{2j} & \\ldots & A_{2n} & b_2 \\\\\n",
    "0      & 0      & A_{33} & \\ldots & A_{3k} & \\ldots & A_{3j} & \\ldots & A_{3n} & b_3 \\\\\n",
    "\\ldots \\\\\n",
    "0      & 0      & 0 & \\ldots & A_{kk} & \\ldots & A_{kj} & \\ldots & A_{kn} & b_k \\\\\n",
    "\\hline\n",
    "\\ldots \\\\\n",
    "0      & 0      & 0 & \\ldots & A_{ik} & \\ldots & A_{ij} & \\ldots & A_{in} & b_i \\\\\n",
    "\\ldots \\\\\n",
    "0      & 0      & 0 & \\ldots & A_{nk} & \\ldots & A_{nj} & \\ldots & A_{nn} & b_n\n",
    "\\end{array}\n",
    "\\right]\n",
    "$$\n",
    "Note: the coefficients are not the one of the original matrix (why?, exception?).\n"
   ]
  },
  {
   "cell_type": "markdown",
   "metadata": {},
   "source": [
    "##### Principle\n",
    "* Use the first $n-1$ rows successively as pivot row $k$.\n",
    "* For each pivot row $k$, transform row $i$ ($k+1\\leq i \\leq n$) as follows: \n",
    "$$\n",
    "A_{ij} \\leftarrow A_{ij} - \\lambda_{ik} A_{kj}, \\forall j \\in |[k, n]|\n",
    "$$\n",
    "* With $\\lambda_{ik}$ such that after transformation, $A_{ik}=0$: \n",
    "$$\n",
    "\\lambda_{ik} = \\frac{A_{ik}}{A_{kk}}\n",
    "$$.\n",
    "\n",
    "##### Implementation"
   ]
  },
  {
   "cell_type": "code",
   "execution_count": 29,
   "metadata": {},
   "outputs": [],
   "source": [
    "from numpy import shape\n",
    "def gauss_elimination(a, b, verbose=False):\n",
    "    n, m = shape(a)\n",
    "    n2,  = shape(b)\n",
    "    assert(n==n2)\n",
    "    for k in range(n-1):\n",
    "        for i in range(k+1, n):\n",
    "            assert(a[k,k] != 0) # woops, what happens in this case? we'll talk about it later!\n",
    "            if (a[i,k] != 0): # no need to do anything when lambda is 0\n",
    "                lmbda = a[i,k]/a[k,k] # lambda is a reserved keyword in Python\n",
    "                a[i, k:n] = a[i, k:n] - lmbda*a[k, k:n] # list slice operations\n",
    "                b[i] = b[i] - lmbda*b[k]\n",
    "            if verbose:\n",
    "                print(a, b)"
   ]
  },
  {
   "cell_type": "markdown",
   "metadata": {},
   "source": [
    "##### Example"
   ]
  },
  {
   "cell_type": "code",
   "execution_count": 32,
   "metadata": {},
   "outputs": [
    {
     "name": "stdout",
     "output_type": "stream",
     "text": [
      "[[ 6.         -4.          1.        ]\n",
      " [ 0.          3.33333333 -3.33333333]\n",
      " [ 0.          0.          2.5       ]] [-14, 26.666666666666668, 35.0]\n"
     ]
    }
   ],
   "source": [
    "a = array([[6.0, -4, 1], [-4, 6, -4], [1, -4, 6]])\n",
    "b = [-14, 36, 6]\n",
    "gauss_elimination(a, b)\n",
    "print(a,b)"
   ]
  },
  {
   "cell_type": "markdown",
   "metadata": {},
   "source": [
    "#### Back substition phase\n",
    "\n",
    "After the elimination phase, the augmented matrix has the following form:\n",
    "$$\n",
    "\\left[\n",
    "\\begin{array}{ccccc|c}\n",
    "A_{11} & A_{12} & A_{13} & \\ldots & A_{1n} & b_1 \\\\\n",
    "0      & A_{22} & A_{23} & \\ldots & A_{2n} & b_2 \\\\\n",
    "0      & 0      & A_{33} & \\ldots & A_{3n} & b_3 \\\\\n",
    "\\ldots\\\\\n",
    "0      & 0      & 0 & \\ldots & A_{nn} & b_n\n",
    "\\end{array}\n",
    "\\right]\n",
    "$$"
   ]
  },
  {
   "cell_type": "markdown",
   "metadata": {},
   "source": [
    "The equations are solved from the last row to the first:\n",
    "* $x_n$ = $b_n/A_{nn}$\n",
    "* $\\forall i \\leq n, \\quad x_i = \\left( b_i - \\sum_{j = i +1}^n{A_{ij}x_{j}} \\right) \\frac{1}{A_{ii}}$"
   ]
  },
  {
   "cell_type": "markdown",
   "metadata": {},
   "source": [
    "##### Implementation"
   ]
  },
  {
   "cell_type": "code",
   "execution_count": 34,
   "metadata": {},
   "outputs": [],
   "source": [
    "from numpy import dot, zeros, shape\n",
    "def gauss_substitution(a, b):\n",
    "    n, m = shape(a)\n",
    "    n2, = shape(b)\n",
    "    assert(n==n2)\n",
    "    x = zeros(n)\n",
    "    for k in range(n):\n",
    "        i = n - 1 - k\n",
    "        x[i] = (b[i] - dot(a[i,i+1:], x[i+1:]))/a[i,i]\n",
    "    return x"
   ]
  },
  {
   "cell_type": "markdown",
   "metadata": {},
   "source": [
    "##### Exercice\n",
    "\n",
    "Use Gauss elimination to solve $\\textbf{Ax}=\\textbf{b}$ where:\n",
    "$$\n",
    "\\textbf{A} = \\begin{bmatrix}\n",
    "6 & -4 & 1\\\\\n",
    "-4 & 6 & -4 \\\\\n",
    "1 & -4 & 6\n",
    "\\end{bmatrix}\n",
    "\\quad\n",
    "\\mathrm{and}\n",
    "\\quad\n",
    "\\textbf{b} = \\begin{bmatrix}\n",
    "-14 \\\\\n",
    "36\\\\\n",
    "6\n",
    "\\end{bmatrix}\n",
    "$$\n",
    "(done manually in class)"
   ]
  },
  {
   "cell_type": "code",
   "execution_count": 42,
   "metadata": {},
   "outputs": [
    {
     "data": {
      "text/plain": [
       "array([10., 22., 14.])"
      ]
     },
     "execution_count": 42,
     "metadata": {},
     "output_type": "execute_result"
    }
   ],
   "source": [
    "a = array([[6.0, -4, 1], [-4, 6, -4], [1, -4, 6]])\n",
    "b = [-14, 36, 6]\n",
    "gauss_elimination(a, b)\n",
    "gauss_substitution(a, b)"
   ]
  },
  {
   "cell_type": "code",
   "execution_count": 43,
   "metadata": {},
   "outputs": [
    {
     "data": {
      "text/plain": [
       "array([10., 22., 14.])"
      ]
     },
     "execution_count": 43,
     "metadata": {},
     "output_type": "execute_result"
    }
   ],
   "source": [
    "# let's test our implementation\n",
    "from numpy.linalg import solve\n",
    "solve(a, b)"
   ]
  },
  {
   "cell_type": "markdown",
   "metadata": {},
   "source": [
    "#### Complete Solver"
   ]
  },
  {
   "cell_type": "code",
   "execution_count": 44,
   "metadata": {},
   "outputs": [],
   "source": [
    "def gauss(a, b):\n",
    "    gauss_elimination(a, b)\n",
    "    return gauss_substitution(a, b)"
   ]
  },
  {
   "cell_type": "code",
   "execution_count": 45,
   "metadata": {},
   "outputs": [
    {
     "data": {
      "text/plain": [
       "array([10., 22., 14.])"
      ]
     },
     "execution_count": 45,
     "metadata": {},
     "output_type": "execute_result"
    }
   ],
   "source": [
    "a = array([[6.0, -4, 1], [-4, 6, -4], [1, -4, 6]])\n",
    "b = [-14, 36, 6]\n",
    "gauss(a, b)"
   ]
  },
  {
   "cell_type": "markdown",
   "metadata": {},
   "source": [
    "### Operations count\n",
    "\n",
    "Counting multiplications and divisions only:\n",
    "\n",
    "Elimination phase:\n",
    "$$\n",
    "\\sum_{k=1}^n \\sum_{i=k+1}^n (n-k) + 2 = \\sum_{k=1}^n (n-k)^2 + 2(n-k) = \\sum_{k=0}^{n-1} k^2 + 2\\sum_{k=0}^{n-1} k\n",
    "=\\frac{(n-1)n(2n-1)}{6}+n(n-1) = \\frac{n(n-1)(2n+5)}{6} = O\\left(\\frac{n^3}{3}\\right)\n",
    "$$\n",
    "\n",
    "Backsubstitution phase:\n",
    "$\\sum_{k=1}^n k=\\frac{n(n+1)}{2}=O\\left(\\frac{n^2}{2}\\right)$"
   ]
  },
  {
   "cell_type": "markdown",
   "metadata": {},
   "source": [
    "### Multiple Sets of Equations\n",
    "\n",
    "It is frequently necessary to solve $\\textbf{Ax}=\\textbf{b}$ for multiple values of $\\textbf{b}$. We denote multiple sets of equations by \n",
    "$\\textbf{AX}=\\textbf{B}$, where:\n",
    "\n",
    "$$\n",
    "\\textbf{X}=[\\textbf{x}_1, \\textbf{x}_2, \\ldots \\textbf{x}_m] \\quad \\textbf{B}=[\\textbf{b}_1, \\textbf{b}_2, \\ldots \\textbf{b}_m]\n",
    "$$\n",
    "are $n \\times m$ matrices.\n",
    "\n",
    "An easy way to handle such equations during the elimination phase is to include all constant vectors in the augmented matrix, so that they are transformed simultaneously with the coefficient matrix. $\\underline{\\mathrm{The\\ LU\\ decomposition\\ method\\ provides\\ a\\ more\\ versatile\\ solution}}$.\n"
   ]
  },
  {
   "cell_type": "markdown",
   "metadata": {},
   "source": [
    "## 2.3 LU Decomposition Methods\n",
    "\n",
    "### Introduction\n",
    "\n",
    "Any square matrix $\\textbf{A}$ can be expressed as a product of a lower triangular matrix $\\textbf{L}$ and an upper triangular matrix $\\textbf{U}$:\n",
    "$$\n",
    "\\textbf{A}=\\textbf{LU}\n",
    "$$\n",
    "\n",
    "However, this decomposition is not unique unless certain constraints are placed on $\\textbf{L}$ and $\\textbf{U}$. Common decomposition methods are listed here:\n",
    "\n",
    "| Name        | Constraints    |\n",
    "| ------------- |:-------------:|\n",
    "| Doolittle's decomposition  | $\\textbf{L}_{ii}=1$ |\n",
    "| Crout's decomposition      | $\\textbf{U}_{ii}=1$      |\n",
    "| Choleski decomposition | $\\textbf{L}=\\textbf{U}^T$ |"
   ]
  },
  {
   "cell_type": "markdown",
   "metadata": {},
   "source": [
    "From the decomposition of $\\textbf{A}$, it is easy to solve $\\textbf{A}\\textbf{x}=\\textbf{b}$:\n",
    "1. Solve $\\textbf{Ly}=\\textbf{b}$ by forward substitution\n",
    "2. Solve $\\textbf{Ux}=\\textbf{y}$ by back substitution\n",
    "\n",
    "The advantage of the $\\textbf{LU}$ decomposition method is that once $\\textbf{A}$ is decomposed, the cost of solving the system for another instance of $\\textbf{b}$ is relatively small."
   ]
  },
  {
   "cell_type": "markdown",
   "metadata": {},
   "source": [
    "### Doolittle's Decomposition Method\n",
    "\n",
    "#### Decomposition phase\n",
    "\n",
    "This method is closely related to Gauss elimination. Let's consider a $3 \\times 3$ matrix $\\textbf{A}$ and let's assume that there exists $\\textbf{L}$ and $\\textbf{U}$:\n",
    "$$\n",
    "\\textbf{L} = \\begin{bmatrix}\n",
    "1 & 0 & 0 \\\\\n",
    "L_{21} & 1 & 0 \\\\\n",
    "L_{31} & L_{32} & 1\n",
    "\\end{bmatrix}\n",
    "\\quad\n",
    "\\textbf{U} = \\begin{bmatrix}\n",
    "U_{11} & U_{12} & U_{13}\\\\\n",
    "0      & U_{22} & U_{23}\\\\\n",
    "0      & 0      & U_{33}\n",
    "\\end{bmatrix}\n",
    "$$\n",
    "such that $\\textbf{A}=\\textbf{LU}$. We get:\n",
    "$$\n",
    "\\textbf{A} = \\begin{bmatrix}\n",
    "U_{11} & U_{12} & U_{13} \\\\\n",
    "L_{21}U_{11} & L_{21}U_{12}+U_{22} & L_{21}U_{13}+U_{23}\\\\\n",
    "L_{31}U_{11} & L_{31}U_{12}+L_{32}U_{22} & L_{31}U_{13}+L_{32}U_{23}+U_{33}\n",
    "\\end{bmatrix}\n",
    "$$"
   ]
  },
  {
   "cell_type": "markdown",
   "metadata": {},
   "source": [
    "Let's now apply Gauss elimination.\n",
    "\n",
    "First pass:\n",
    "* row2 $\\leftarrow$ row2 - $L_{21}$row1\n",
    "* row3 $\\leftarrow$ row3 - $L_{31}$row1\n",
    "\n",
    "$$\n",
    "\\textbf{A} = \\begin{bmatrix}\n",
    "U_{11} & U_{12} & U_{13} \\\\\n",
    "0 & U_{22} & U_{23}\\\\\n",
    "0 & L_{32}U_{22} & L_{32}U_{23}+U_{33}\n",
    "\\end{bmatrix}$$"
   ]
  },
  {
   "cell_type": "markdown",
   "metadata": {},
   "source": [
    "Second pass:\n",
    "* row3 $\\leftarrow$ row3-$L_{32}$row2\n",
    "\n",
    "$$\n",
    "\\textbf{A} = \\begin{bmatrix}\n",
    "U_{11} & U_{12} & U_{13} \\\\\n",
    "0 & U_{22} & U_{23}\\\\\n",
    "0 & 0 & U_{33}\n",
    "\\end{bmatrix}$$"
   ]
  },
  {
   "cell_type": "markdown",
   "metadata": {},
   "source": [
    "This illustration shows 2 properties of Doolittle's decomposition:\n",
    "1. $\\textbf{U}$ is the upper diagonal matrix resulting from Gauss decomposition\n",
    "2. The off-diagonal elements of $\\textbf{L}$ are the multipliers for the pivot equations: $L_{ij}$ is used to eliminate $A_{ij}$"
   ]
  },
  {
   "cell_type": "markdown",
   "metadata": {},
   "source": [
    "It is common to store the multipliers in the lower triangular portion of the matrix. The final form of the coefficient matrix would be:\n",
    "$$\n",
    "[\\textbf{L} \\backslash \\textbf{U}]= \\begin{bmatrix}\n",
    "U_{11} & U_{12} & U_{13} \\\\\n",
    "L_{21} & U_{22} & U_{23} \\\\\n",
    "L_{31} & L_{32} & U_{33}\n",
    "\\end{bmatrix}\n",
    "$$\n",
    "The algorithm is very similar to Gauss elimination:"
   ]
  },
  {
   "cell_type": "code",
   "execution_count": 46,
   "metadata": {},
   "outputs": [],
   "source": [
    "def dolittle_decomp(a, verbose=False):\n",
    "    n, m = shape(a)\n",
    "    for k in range(n-1):\n",
    "        for i in range(k+1, n):\n",
    "            assert(a[k,k] != 0) # woops, what happens in this case? we'll talk about it later!\n",
    "            if (a[i,k] != 0): # no need to do anything when lambda is 0\n",
    "                lmbda = a[i,k]/a[k,k] # lambda is a reserved keyword in Python\n",
    "                a[i, k:n] = a[i, k:n] - lmbda*a[k, k:n] # list slice operations\n",
    "                a[i, k] = lmbda # <--- new in Dolittle decomposition\n",
    "            if verbose:\n",
    "                print(a)\n",
    "    return a"
   ]
  },
  {
   "cell_type": "code",
   "execution_count": 47,
   "metadata": {},
   "outputs": [
    {
     "name": "stdout",
     "output_type": "stream",
     "text": [
      "[[ 1.   4.   1. ]\n",
      " [ 1.   2.  -2. ]\n",
      " [ 2.  -4.5 -9. ]]\n"
     ]
    }
   ],
   "source": [
    "from numpy import array\n",
    "a = array([[1.0, 4, 1], [1, 6, -1], [2, -1, 2]])\n",
    "dolittle_decomp(a)\n",
    "print(a)"
   ]
  },
  {
   "cell_type": "markdown",
   "metadata": {},
   "source": [
    "#### Solution phase\n",
    "\n",
    "First we solve $\\textbf{Ly}=\\textbf{b}$ by forward substitution:\n",
    "$$\n",
    "y_1 = b_1 \\\\\n",
    "L_{21}y_1 + L_{22}y_2 = b_2 \\\\\n",
    "\\ldots\n",
    "L_{k1}y_1 + L_{k2}y_2 + \\ldots + L_{k,k-1}y_{k-1} + y_k = b_k \\\\\n",
    "\\ldots\n",
    "$$\n",
    "\n",
    "Thus:\n",
    "$$\n",
    "y_k = b_k - \\sum_{i=1}^{k-1}L_{k,i}y_i\n",
    "$$\n",
    "\n",
    "Implementation:"
   ]
  },
  {
   "cell_type": "code",
   "execution_count": 48,
   "metadata": {},
   "outputs": [],
   "source": [
    "def dolittle_solution_forward(l, b):\n",
    "    for k in range(1, len(b)):\n",
    "        b[k] = b[k] - dot(l[k,0:k],b[0:k])\n",
    "    return b"
   ]
  },
  {
   "cell_type": "markdown",
   "metadata": {},
   "source": [
    "The back substitution phase for solving $\\textbf{Ux}=\\textbf{y}$ is identical to the one in the Gauss elimination method.\n",
    "\n",
    "#### Complete solver"
   ]
  },
  {
   "cell_type": "code",
   "execution_count": 49,
   "metadata": {},
   "outputs": [],
   "source": [
    "def dolittle_solver(a, b, verbose=False):\n",
    "    dolittle_decomp(a)\n",
    "    if verbose:\n",
    "        print(\"LU={}\".format(a))\n",
    "    y = dolittle_solution_forward(a, b)\n",
    "    return gauss_substitution(a, y)"
   ]
  },
  {
   "cell_type": "markdown",
   "metadata": {},
   "source": [
    "#### Exercise\n",
    "\n",
    "Use Dolittle's decomposition to solve $\\textbf{Ax}=\\textbf{b}$ where:\n",
    "$$\n",
    "\\textbf{A} = \\begin{bmatrix}\n",
    "1 & 4 & 1 \\\\\n",
    "1 & 6 & -1 \\\\\n",
    "2 & -1 & 2\n",
    "\\end{bmatrix}\n",
    "\\quad\n",
    "\\textbf{b} = \\begin{bmatrix}\n",
    "7 \\\\\n",
    "13 \\\\\n",
    "5\n",
    "\\end{bmatrix}\n",
    "$$"
   ]
  },
  {
   "cell_type": "code",
   "execution_count": 50,
   "metadata": {},
   "outputs": [
    {
     "name": "stdout",
     "output_type": "stream",
     "text": [
      "LU=[[ 1.   4.   1. ]\n",
      " [ 1.   2.  -2. ]\n",
      " [ 2.  -4.5 -9. ]]\n"
     ]
    },
    {
     "data": {
      "text/plain": [
       "array([ 5.,  1., -2.])"
      ]
     },
     "execution_count": 50,
     "metadata": {},
     "output_type": "execute_result"
    }
   ],
   "source": [
    "from numpy import array\n",
    "a = array([[1.0, 4, 1], [1, 6, -1], [2, -1, 2]])\n",
    "b = array([7, 13, 5])\n",
    "dolittle_solver(a, b, True)"
   ]
  },
  {
   "cell_type": "code",
   "execution_count": 53,
   "metadata": {},
   "outputs": [
    {
     "data": {
      "text/plain": [
       "array([ 5.,  1., -2.])"
      ]
     },
     "execution_count": 53,
     "metadata": {},
     "output_type": "execute_result"
    }
   ],
   "source": [
    "# and let's test our implementation\n",
    "from numpy.linalg import solve\n",
    "from numpy import array\n",
    "a = array([[1.0, 4, 1], [1, 6, -1], [2, -1, 2]])\n",
    "b = array([7, 13, 5])\n",
    "solve(a, b)"
   ]
  },
  {
   "cell_type": "code",
   "execution_count": null,
   "metadata": {},
   "outputs": [],
   "source": []
  }
 ],
 "metadata": {
  "kernelspec": {
   "display_name": "Python 3",
   "language": "python",
   "name": "python3"
  },
  "language_info": {
   "codemirror_mode": {
    "name": "ipython",
    "version": 3
   },
   "file_extension": ".py",
   "mimetype": "text/x-python",
   "name": "python",
   "nbconvert_exporter": "python",
   "pygments_lexer": "ipython3",
   "version": "3.6.6"
  }
 },
 "nbformat": 4,
 "nbformat_minor": 2
}
